{
 "metadata": {
  "language_info": {
   "codemirror_mode": {
    "name": "ipython",
    "version": 3
   },
   "file_extension": ".py",
   "mimetype": "text/x-python",
   "name": "python",
   "nbconvert_exporter": "python",
   "pygments_lexer": "ipython3",
   "version": "3.7.9-final"
  },
  "orig_nbformat": 2,
  "kernelspec": {
   "name": "python3",
   "display_name": "Python 3.7.9 64-bit ('learning': conda)",
   "metadata": {
    "interpreter": {
     "hash": "2ece4d95b11998cbe834042c7ce9434805e8f71abe44ff4c516c3a46986a78f2"
    }
   }
  }
 },
 "nbformat": 4,
 "nbformat_minor": 2,
 "cells": [
  {
   "source": [
    "# WHAT IS PYTORCH\n",
    "\n",
    "## 参考资料\n",
    "\n"
   ],
   "cell_type": "markdown",
   "metadata": {}
  },
  {
   "cell_type": "code",
   "execution_count": 1,
   "metadata": {},
   "outputs": [
    {
     "output_type": "stream",
     "name": "stdout",
     "text": [
      "1.5.0\n"
     ]
    },
    {
     "output_type": "execute_result",
     "data": {
      "text/plain": [
       "1124275353873200"
      ]
     },
     "metadata": {},
     "execution_count": 1
    }
   ],
   "source": [
    "import torch\n",
    "print(torch.__version__)\n",
    "\n",
    "torch.random.seed()"
   ]
  },
  {
   "source": [
    "## 快速开始\n",
    "\n",
    "### 张量\n"
   ],
   "cell_type": "markdown",
   "metadata": {}
  },
  {
   "cell_type": "code",
   "execution_count": 2,
   "metadata": {},
   "outputs": [
    {
     "output_type": "stream",
     "name": "stdout",
     "text": [
      "tensor([[2.0544e+20, 2.1876e-04, 4.2002e-08],\n        [1.6613e-07, 5.4890e-05, 2.1763e-04]])\ntensor([[0.5808, 0.1049, 0.0565],\n        [0.3225, 0.2916, 0.0933]])\ntensor([[0, 0, 0],\n        [0, 0, 0]])\n"
     ]
    }
   ],
   "source": [
    "# 利用函数方法创建\n",
    "x = torch.empty((2,3))\n",
    "print(x)\n",
    "x = torch.rand((2,3))\n",
    "print(x)\n",
    "x = torch.zeros((2,3), dtype=torch.long)\n",
    "print(x)"
   ]
  },
  {
   "cell_type": "code",
   "execution_count": 3,
   "metadata": {},
   "outputs": [
    {
     "output_type": "stream",
     "name": "stdout",
     "text": [
      "tensor([5.5000, 3.0000])\n"
     ]
    }
   ],
   "source": [
    "# 利用数据创建\n",
    "x = torch.tensor([5.5, 3])\n",
    "print(x)"
   ]
  },
  {
   "cell_type": "code",
   "execution_count": 4,
   "metadata": {},
   "outputs": [
    {
     "output_type": "stream",
     "name": "stdout",
     "text": [
      "tensor([[1., 1., 1.],\n        [1., 1., 1.]], dtype=torch.float64)\ntensor([[ 1.3179,  0.8589,  0.3080],\n        [ 1.1617, -1.1464, -0.2248]])\n"
     ]
    }
   ],
   "source": [
    "# 利用已有Tensor创建\n",
    "x = x.new_ones((2,3), dtype=torch.double)      # new_* 方法保留Tensor形状\n",
    "print(x)\n",
    "x = torch.randn_like(x, dtype=torch.float)    # 设置数据类型\n",
    "print(x)     "
   ]
  },
  {
   "cell_type": "code",
   "execution_count": 5,
   "metadata": {},
   "outputs": [
    {
     "output_type": "stream",
     "name": "stdout",
     "text": [
      "torch.Size([2, 3])\n"
     ]
    }
   ],
   "source": [
    "print(x.size())   # Tensor形状\n",
    "# or x.shape"
   ]
  },
  {
   "source": [
    "### 操作\n",
    "\n",
    "关于Tensor的更多操作详见 https://pytorch.org/docs/stable/torch.html  \n"
   ],
   "cell_type": "markdown",
   "metadata": {}
  },
  {
   "cell_type": "code",
   "execution_count": 6,
   "metadata": {},
   "outputs": [
    {
     "output_type": "stream",
     "name": "stdout",
     "text": [
      "tensor([[1.7073, 1.1179, 1.5080],\n        [1.3056, 1.9880, 1.8877]])\ntensor([[1.7073, 1.1179, 1.5080],\n        [1.3056, 1.9880, 1.8877]])\n"
     ]
    }
   ],
   "source": [
    "x = torch.rand((2,3))\n",
    "y = torch.ones((2,3))\n",
    "print(x+y)\n",
    "# or torch.add(x, y)\n",
    "result = torch.empty((2,3))\n",
    "torch.add(x, y, out=result)   # 指定输出的Tensor\n",
    "print(result)"
   ]
  },
  {
   "cell_type": "code",
   "execution_count": 7,
   "metadata": {},
   "outputs": [
    {
     "output_type": "stream",
     "name": "stdout",
     "text": [
      "tensor([[1., 1., 1.],\n        [1., 1., 1.]])\ntensor([[1.7073, 1.1179, 1.5080],\n        [1.3056, 1.9880, 1.8877]])\n"
     ]
    }
   ],
   "source": [
    "# 所有操作加上`_`后缀将成为改变原Tensor的操作\n",
    "# 例如：x.opt_()会改变x本身，而x.opt()则不会\n",
    "y.add(x)\n",
    "print(y)\n",
    "y.add_(x)\n",
    "print(y)"
   ]
  },
  {
   "cell_type": "code",
   "execution_count": 8,
   "metadata": {},
   "outputs": [
    {
     "output_type": "stream",
     "name": "stdout",
     "text": [
      "tensor([0.1179, 0.9880])\n"
     ]
    }
   ],
   "source": [
    "# 可以使用类似NumPy的标准索引方式\n",
    "print(x[:, 1])"
   ]
  },
  {
   "cell_type": "code",
   "execution_count": 9,
   "metadata": {},
   "outputs": [
    {
     "output_type": "stream",
     "name": "stdout",
     "text": [
      "torch.Size([2, 3]) torch.Size([6]) torch.Size([3, 2])\n"
     ]
    }
   ],
   "source": [
    "# 使用`torch.view`改变Tensor形状\n",
    "x = torch.randn(2, 3)\n",
    "y = x.view(6)\n",
    "z = x.view(-1, 2)  # 与np.reshape()同，指定为-1的轴将自动计算其size\n",
    "print(x.size(), y.size(), z.size())"
   ]
  },
  {
   "cell_type": "code",
   "execution_count": 10,
   "metadata": {},
   "outputs": [
    {
     "output_type": "stream",
     "name": "stdout",
     "text": [
      "tensor([0.0793])\n0.07930459827184677\n"
     ]
    }
   ],
   "source": [
    "# 对于单元素Tensor，使用`torch.item()`获取其数值\n",
    "x = torch.randn(1)\n",
    "print(x)\n",
    "print(x.item())"
   ]
  },
  {
   "source": [
    "## NumPy 互转\n",
    "\n",
    "`numpy.Array` 与 `torch.Tensor` 将共享底层存储，其一改变则一起改变  \n",
    "注意，前提是 `torch.Tensor` 在CPU上，若在GPU上则不会  \n",
    "\n",
    "### 转 NumPy.Array\n"
   ],
   "cell_type": "markdown",
   "metadata": {}
  },
  {
   "cell_type": "code",
   "execution_count": 12,
   "metadata": {},
   "outputs": [
    {
     "output_type": "stream",
     "name": "stdout",
     "text": [
      "tensor([1., 1., 1., 1., 1.]) <class 'torch.Tensor'>\n[1. 1. 1. 1. 1.] <class 'numpy.ndarray'>\n"
     ]
    }
   ],
   "source": [
    "a = torch.ones(5)\n",
    "print(a, type(a))\n",
    "b = a.numpy()\n",
    "print(b, type(b))"
   ]
  },
  {
   "cell_type": "code",
   "execution_count": 13,
   "metadata": {},
   "outputs": [
    {
     "output_type": "stream",
     "name": "stdout",
     "text": [
      "tensor([0., 1., 0., 1., 0.])\n[1. 2. 1. 2. 1.]\n"
     ]
    }
   ],
   "source": [
    "# 共享底层存储\n",
    "b[::2] = 0\n",
    "print(a)    # a的数据改变\n",
    "a.add_(1)\n",
    "print(b)    # b的数据改变"
   ]
  },
  {
   "cell_type": "code",
   "execution_count": 14,
   "metadata": {},
   "outputs": [
    {
     "output_type": "stream",
     "name": "stdout",
     "text": [
      "tensor([1., 2., 1., 2., 1.], device='cuda:0')\n"
     ]
    }
   ],
   "source": [
    "# 当a在GPU时不会共享底层存储，因为NumPy不支持GPU\n",
    "# 或者说，a转移到GPU的操作是深拷贝\n",
    "a = a.cuda()\n",
    "b[::2] = 0\n",
    "print(a)"
   ]
  },
  {
   "source": [
    "### 转 Torch.Tensor\n"
   ],
   "cell_type": "markdown",
   "metadata": {}
  },
  {
   "cell_type": "code",
   "execution_count": 16,
   "metadata": {},
   "outputs": [
    {
     "output_type": "stream",
     "name": "stdout",
     "text": [
      "1.19.1\n"
     ]
    }
   ],
   "source": [
    "import numpy as np\n",
    "print(np.__version__)"
   ]
  },
  {
   "cell_type": "code",
   "execution_count": 17,
   "metadata": {},
   "outputs": [
    {
     "output_type": "stream",
     "name": "stdout",
     "text": [
      "[1. 1. 1. 1. 1.] <class 'numpy.ndarray'>\ntensor([1., 1., 1., 1., 1.], dtype=torch.float64) <class 'torch.Tensor'>\n"
     ]
    }
   ],
   "source": [
    "a = np.ones(5)\n",
    "print(a, type(a))\n",
    "b = torch.from_numpy(a)\n",
    "print(b, type(b))"
   ]
  },
  {
   "cell_type": "code",
   "execution_count": 18,
   "metadata": {},
   "outputs": [
    {
     "output_type": "stream",
     "name": "stdout",
     "text": [
      "tensor([2., 2., 2., 2., 2.], dtype=torch.float64)\n[1. 1. 1. 1. 1.]\n"
     ]
    }
   ],
   "source": [
    "# 共享底层存储\n",
    "np.add(a, 1, out=a)\n",
    "print(b)    # b的数据改变\n",
    "b.add_(-1)\n",
    "print(a)    # a的数据改变"
   ]
  },
  {
   "source": [
    "## CUDA Tensors\n"
   ],
   "cell_type": "markdown",
   "metadata": {}
  },
  {
   "cell_type": "code",
   "execution_count": 23,
   "metadata": {},
   "outputs": [
    {
     "output_type": "stream",
     "name": "stdout",
     "text": [
      "cuda:0\n"
     ]
    }
   ],
   "source": [
    "device = torch.device(\"cuda:0\") if torch.cuda.is_available() else torch.device(\"cpu\")\n",
    "print(device)"
   ]
  },
  {
   "cell_type": "code",
   "execution_count": 22,
   "metadata": {},
   "outputs": [
    {
     "output_type": "stream",
     "name": "stdout",
     "text": [
      "tensor([[0.5936, 0.2140, 0.4248],\n        [2.1912, 2.2343, 2.1905]], device='cuda:0')\ntensor([[0.5936, 0.2140, 0.4248],\n        [2.1912, 2.2343, 2.1905]], dtype=torch.float64)\n"
     ]
    }
   ],
   "source": [
    "# 可以在创建Tensor时直接指定设备为GPU，也可以\n",
    "# 在创建Tensor之后使用`torch.to()`或者`torch.cuda()`进行转换\n",
    "x = torch.randn(2, 3)\n",
    "y = torch.ones_like(x, device=device)\n",
    "x = x.to(device)\n",
    "z = x + y\n",
    "print(z)\n",
    "z = z.to('cpu', torch.double)\n",
    "print(z)"
   ]
  },
  {
   "cell_type": "code",
   "execution_count": null,
   "metadata": {},
   "outputs": [],
   "source": []
  }
 ]
}