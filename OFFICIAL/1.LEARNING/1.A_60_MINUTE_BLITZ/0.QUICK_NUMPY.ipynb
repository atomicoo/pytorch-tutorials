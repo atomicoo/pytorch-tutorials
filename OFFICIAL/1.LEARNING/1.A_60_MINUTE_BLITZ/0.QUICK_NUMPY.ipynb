{
 "metadata": {
  "language_info": {
   "codemirror_mode": {
    "name": "ipython",
    "version": 3
   },
   "file_extension": ".py",
   "mimetype": "text/x-python",
   "name": "python",
   "nbconvert_exporter": "python",
   "pygments_lexer": "ipython3",
   "version": "3.7.9-final"
  },
  "orig_nbformat": 2,
  "kernelspec": {
   "name": "python3",
   "display_name": "Python 3.7.9 64-bit ('learning': conda)",
   "metadata": {
    "interpreter": {
     "hash": "2ece4d95b11998cbe834042c7ce9434805e8f71abe44ff4c516c3a46986a78f2"
    }
   }
  }
 },
 "nbformat": 4,
 "nbformat_minor": 2,
 "cells": [
  {
   "source": [
    "# NumPy 快速教程\n",
    "\n",
    "## 参考资料\n",
    "\n",
    "> 英文版：https://numpy.org/devdocs/user/quickstart.html  \n",
    "> 中文版：https://www.numpy.org.cn/user/quickstart.html  \n"
   ],
   "cell_type": "markdown",
   "metadata": {}
  },
  {
   "cell_type": "code",
   "execution_count": 1,
   "metadata": {},
   "outputs": [
    {
     "output_type": "stream",
     "name": "stdout",
     "text": [
      "1.19.1\n"
     ]
    }
   ],
   "source": [
    "import numpy as np\n",
    "print(np.__version__)\n",
    "\n",
    "np.random.seed(0)"
   ]
  },
  {
   "source": [
    "## 基础知识\n",
    "\n",
    "### 一个例子\n"
   ],
   "cell_type": "markdown",
   "metadata": {}
  },
  {
   "cell_type": "code",
   "execution_count": 2,
   "metadata": {},
   "outputs": [
    {
     "output_type": "stream",
     "name": "stdout",
     "text": [
      "[[ 0  1  2  3  4]\n [ 5  6  7  8  9]\n [10 11 12 13 14]]\n(3, 5)\n2\nint32\n4\n15\n<class 'numpy.ndarray'>\n"
     ]
    }
   ],
   "source": [
    "a = np.arange(15).reshape(3, 5)\n",
    "print(a)\n",
    "print(a.shape)   # 数组形状\n",
    "print(a.ndim)   # 轴\n",
    "print(a.dtype.name)\n",
    "print(a.itemsize)   # 每个元素字节大小\n",
    "print(a.size)   # 数组长度\n",
    "print(type(a))"
   ]
  },
  {
   "source": [
    "### 数组创建\n",
    "\n",
    "> 另见：array， zeros， zeros_like， ones， ones_like， empty， empty_like， arange， linspace， numpy.random.mtrand.RandomState.rand， numpy.random.mtrand.RandomState.randn， fromfunction， fromfile\n",
    "\n"
   ],
   "cell_type": "markdown",
   "metadata": {}
  },
  {
   "cell_type": "code",
   "execution_count": 3,
   "metadata": {},
   "outputs": [
    {
     "output_type": "stream",
     "name": "stdout",
     "text": [
      "[2 3 4]\n[[1.5 2.  3. ]\n [4.  5.  6. ]]\n[[1.+0.j 2.+0.j]\n [3.+0.j 4.+0.j]]\n"
     ]
    }
   ],
   "source": [
    "print(np.array([2,3,4]))\n",
    "print(np.array([(1.5,2,3), (4,5,6)]))\n",
    "print(np.array([[1,2], [3,4]], dtype=complex))"
   ]
  },
  {
   "cell_type": "code",
   "execution_count": 4,
   "metadata": {},
   "outputs": [
    {
     "output_type": "stream",
     "name": "stdout",
     "text": [
      "[[0. 0. 0. 0.]\n [0. 0. 0. 0.]\n [0. 0. 0. 0.]]\n[[[1 1 1 1]\n  [1 1 1 1]\n  [1 1 1 1]]\n\n [[1 1 1 1]\n  [1 1 1 1]\n  [1 1 1 1]]]\n[[1.39069238e-309 1.39069238e-309 1.39069238e-309]\n [1.39069238e-309 1.39069238e-309 1.39069238e-309]]\n"
     ]
    }
   ],
   "source": [
    "print(np.zeros((3,4)))\n",
    "print(np.ones((2,3,4), dtype=np.int16))\n",
    "print(np.empty((2,3)))"
   ]
  },
  {
   "cell_type": "code",
   "execution_count": 5,
   "metadata": {},
   "outputs": [
    {
     "output_type": "stream",
     "name": "stdout",
     "text": [
      "[0.  0.3 0.6 0.9 1.2 1.5 1.8]\n[0.   0.25 0.5  0.75 1.   1.25 1.5  1.75 2.  ]\n"
     ]
    }
   ],
   "source": [
    "print(np.arange(0, 2, 0.3))\n",
    "print(np.linspace(0, 2, 9))"
   ]
  },
  {
   "source": [
    "### 打印数组\n"
   ],
   "cell_type": "markdown",
   "metadata": {}
  },
  {
   "cell_type": "code",
   "execution_count": 6,
   "metadata": {},
   "outputs": [
    {
     "output_type": "stream",
     "name": "stdout",
     "text": [
      "[[ 0  1  2]\n [ 3  4  5]\n [ 6  7  8]\n [ 9 10 11]]\n"
     ]
    }
   ],
   "source": [
    "print(np.arange(12).reshape(4,3))"
   ]
  },
  {
   "cell_type": "code",
   "execution_count": 7,
   "metadata": {},
   "outputs": [],
   "source": [
    "import sys\n",
    "np.set_printoptions(threshold=sys.maxsize)   # 强制打印完整数组"
   ]
  },
  {
   "source": [
    "### 基本操作\n"
   ],
   "cell_type": "markdown",
   "metadata": {}
  },
  {
   "cell_type": "code",
   "execution_count": 8,
   "metadata": {},
   "outputs": [
    {
     "output_type": "stream",
     "name": "stdout",
     "text": [
      "[20 29 38 47]\n[0 1 4 9]\n[ 0.91294525 -0.98803162  0.74511316 -0.26237485]\n[ True  True False False]\n"
     ]
    }
   ],
   "source": [
    "a = np.array([20,30,40,50])\n",
    "b = np.arange(4)\n",
    "print(a-b)\n",
    "print(b**2)   # 乘方\n",
    "print(np.sin(a))\n",
    "print(a<35)   # 比较"
   ]
  },
  {
   "cell_type": "code",
   "execution_count": 9,
   "metadata": {},
   "outputs": [
    {
     "output_type": "stream",
     "name": "stdout",
     "text": [
      "[[2 0]\n [0 4]]\n[[5 4]\n [3 4]]\n[[5 4]\n [3 4]]\n"
     ]
    }
   ],
   "source": [
    "A = np.array([[1,1],\n",
    "              [0,1]])\n",
    "B = np.array([[2,0],\n",
    "              [3,4]])\n",
    "print(A*B)   # 逐元素乘\n",
    "print(A@B)   # 点乘\n",
    "print(A.dot(B))   # 点乘"
   ]
  },
  {
   "cell_type": "code",
   "execution_count": 11,
   "metadata": {},
   "outputs": [
    {
     "output_type": "stream",
     "name": "stdout",
     "text": [
      "[[3 3 3]\n [3 3 3]]\n[[3.43758721 3.891773   3.96366276]\n [3.38344152 3.79172504 3.52889492]]\n"
     ]
    },
    {
     "output_type": "error",
     "ename": "UFuncTypeError",
     "evalue": "Cannot cast ufunc 'add' output from dtype('float64') to dtype('int32') with casting rule 'same_kind'",
     "traceback": [
      "\u001b[1;31m---------------------------------------------------------------------------\u001b[0m",
      "\u001b[1;31mUFuncTypeError\u001b[0m                            Traceback (most recent call last)",
      "\u001b[1;32m<ipython-input-11-22795c4cecf0>\u001b[0m in \u001b[0;36m<module>\u001b[1;34m\u001b[0m\n\u001b[0;32m      6\u001b[0m \u001b[0mb\u001b[0m \u001b[1;33m+=\u001b[0m \u001b[0ma\u001b[0m\u001b[1;33m\u001b[0m\u001b[1;33m\u001b[0m\u001b[0m\n\u001b[0;32m      7\u001b[0m \u001b[0mprint\u001b[0m\u001b[1;33m(\u001b[0m\u001b[0mb\u001b[0m\u001b[1;33m)\u001b[0m    \u001b[1;31m# 不同类型数组间操作，结果将会向上（更精确）转换\u001b[0m\u001b[1;33m\u001b[0m\u001b[1;33m\u001b[0m\u001b[0m\n\u001b[1;32m----> 8\u001b[1;33m \u001b[0ma\u001b[0m \u001b[1;33m+=\u001b[0m \u001b[0mb\u001b[0m    \u001b[1;31m# 错误，结果精度不允许向下转换\u001b[0m\u001b[1;33m\u001b[0m\u001b[1;33m\u001b[0m\u001b[0m\n\u001b[0m",
      "\u001b[1;31mUFuncTypeError\u001b[0m: Cannot cast ufunc 'add' output from dtype('float64') to dtype('int32') with casting rule 'same_kind'"
     ]
    }
   ],
   "source": [
    "# *=、+= 直接更改被操作数组\n",
    "a = np.ones((2,3), dtype=int)\n",
    "b = np.random.random((2,3))\n",
    "a *= 3\n",
    "print(a)\n",
    "b += a\n",
    "print(b)    # 不同类型数组间操作，结果将会向上（更精确）转换\n",
    "a += b    # 错误，结果精度不允许向下转换"
   ]
  },
  {
   "cell_type": "code",
   "execution_count": 12,
   "metadata": {},
   "outputs": [
    {
     "output_type": "stream",
     "name": "stdout",
     "text": [
      "[ 0.54030231+0.84147098j -0.84147098+0.54030231j -0.54030231-0.84147098j]\n"
     ]
    }
   ],
   "source": [
    "a = np.ones(3, dtype=np.int32)\n",
    "b = np.linspace(0, np.pi, 3)\n",
    "c = a + b\n",
    "d = np.exp(c*1j)    # 不同类型数组间操作，结果向上（更精确）转换\n",
    "print(d)"
   ]
  },
  {
   "cell_type": "code",
   "execution_count": 13,
   "metadata": {},
   "outputs": [
    {
     "output_type": "stream",
     "name": "stdout",
     "text": [
      "[[0.56804456 0.92559664 0.07103606]\n [0.0871293  0.0202184  0.83261985]]\n2.5046448002742845\n[0.0871293  0.0202184  0.07103606]\n[0.92559664 0.83261985]\n"
     ]
    }
   ],
   "source": [
    "a = np.random.random((2,3))\n",
    "print(a)\n",
    "print(a.sum())   # 默认对整个数组操作\n",
    "print(a.min(axis=0))   # 可通过axis指定沿某轴操作\n",
    "print(a.max(axis=1))"
   ]
  },
  {
   "source": [
    "### 通函数\n",
    "\n",
    "> 另见：all， any， apply_along_axis， argmax， argmin， argsort， average， bincount， ceil， clip， conj， corrcoef， cov， cross， cumprod， cumsum， diff， dot， floor， inner， INV ， lexsort， max， maximum， mean， median， min， minimum， nonzero， outer， prod， re， round， sort， std， sum， trace， transpose， var， vdot， vectorize， where\n"
   ],
   "cell_type": "markdown",
   "metadata": {}
  },
  {
   "cell_type": "code",
   "execution_count": 14,
   "metadata": {},
   "outputs": [
    {
     "output_type": "stream",
     "name": "stdout",
     "text": [
      "[[0 1 2]\n [3 4 5]]\n[ 2. -1.  4.]\n[[  1.           2.71828183   7.3890561 ]\n [ 20.08553692  54.59815003 148.4131591 ]]\n[1.41421356        nan 2.        ]\n[[2. 0. 6.]\n [5. 3. 9.]]\n"
     ]
    }
   ],
   "source": [
    "A = np.arange(6).reshape(2,3)\n",
    "B = np.array([2.,-1.,4.])\n",
    "print(A)\n",
    "print(B)\n",
    "print(np.exp(A))\n",
    "print(np.sqrt(B))\n",
    "print(np.add(A, B))   # 广播机制"
   ]
  },
  {
   "source": [
    "### 索引/切片/迭代\n",
    "\n",
    "> 另见：Indexing, Indexing (reference), newaxis, ndenumerate, indices\n"
   ],
   "cell_type": "markdown",
   "metadata": {}
  },
  {
   "cell_type": "code",
   "execution_count": 15,
   "metadata": {},
   "outputs": [
    {
     "output_type": "stream",
     "name": "stdout",
     "text": [
      "[  0   1   8  27  64 125 216 343 512 729]\n27\n[27 64]\n[100   1 100  27 100 125 216 343 512 729]\n[729 512 343 216 125 100  27 100   1 100]\n"
     ]
    }
   ],
   "source": [
    "a = np.arange(10)**3\n",
    "print(a)\n",
    "print(a[3])\n",
    "print(a[3:5])\n",
    "a[:6:2] = 100\n",
    "print(a)\n",
    "print(a[::-1])"
   ]
  },
  {
   "cell_type": "code",
   "execution_count": 16,
   "metadata": {},
   "outputs": [
    {
     "output_type": "stream",
     "name": "stdout",
     "text": [
      "[[ 0  1  2  3]\n [10 11 12 13]\n [20 21 22 23]]\n12\n[21 22 23]\n[20 21 22 23]\n"
     ]
    }
   ],
   "source": [
    "def func(x, y):\n",
    "    return 10*x+y\n",
    "\n",
    "a = np.fromfunction(func, (3,4), dtype=int)\n",
    "print(a)\n",
    "print(a[1,2])\n",
    "print(a[2,1:])\n",
    "print(a[-1])   # a[-1] == a[-1,:]\n",
    "# 注意，缺失的索引认定为全切片"
   ]
  },
  {
   "cell_type": "code",
   "execution_count": 17,
   "metadata": {},
   "outputs": [
    {
     "output_type": "stream",
     "name": "stdout",
     "text": [
      "[[[  0   1   2]\n  [ 10  12  13]]\n\n [[100 101 102]\n  [110 112 113]]]\n(2, 2, 3)\n[[ 0  1  2]\n [10 12 13]]\n[[  2  13]\n [102 113]]\n"
     ]
    }
   ],
   "source": [
    "a = np.array([[[  0,  1,  2],               # a 3D array (two stacked 2D arrays)\n",
    "               [ 10, 12, 13]],\n",
    "              [[100,101,102],\n",
    "               [110,112,113]]])\n",
    "print(a)\n",
    "print(a.shape)\n",
    "print(a[0,...])   # b[0,...] == b[0,:,:]\n",
    "print(a[...,2])   # b[...,2] == b[:,:,2]\n",
    "# 注意，省略的索引认定为全切片"
   ]
  },
  {
   "cell_type": "code",
   "execution_count": 18,
   "metadata": {},
   "outputs": [
    {
     "output_type": "stream",
     "name": "stdout",
     "text": [
      "[0 1 2]\n[[0]\n [1]\n [2]]\n"
     ]
    }
   ],
   "source": [
    "a = np.arange(3)\n",
    "print(a)\n",
    "print(a[:, np.newaxis])   # 增加新轴"
   ]
  },
  {
   "cell_type": "code",
   "execution_count": 19,
   "metadata": {},
   "outputs": [
    {
     "output_type": "stream",
     "name": "stdout",
     "text": [
      "[0 1 2]\n[3 4 5]\n"
     ]
    }
   ],
   "source": [
    "A = np.arange(6).reshape(2,3)\n",
    "for item in A:   # 迭代多维数组时，针对第一个轴\n",
    "    print(item)"
   ]
  },
  {
   "source": [
    "## 形状操纵\n",
    "\n",
    "### 改变形状\n",
    "\n",
    "> 另见：ndarray.shape， reshape， resize， ravel\n"
   ],
   "cell_type": "markdown",
   "metadata": {}
  },
  {
   "cell_type": "code",
   "execution_count": 20,
   "metadata": {},
   "outputs": [
    {
     "output_type": "stream",
     "name": "stdout",
     "text": [
      "<numpy.flatiter object at 0x000001F890448AE0>\n[ 0  1  2  3  4  5  6  7  8  9 10 11]\n[ 0  1  2  3  4  5  6  7  8  9 10 11]\n[ 0  1  2  3  4  5  6  7  8  9 10 11]\n"
     ]
    }
   ],
   "source": [
    "# 多维数组扁平化\n",
    "a = np.arange(12).reshape((3,4))\n",
    "print(a.flat)   # 返回迭代器\n",
    "print(a.flatten())  # 返回列表\n",
    "print(a.ravel())    # 返回列表\n",
    "print(a.reshape((12)))  # 返回列表"
   ]
  },
  {
   "cell_type": "code",
   "execution_count": 21,
   "metadata": {},
   "outputs": [
    {
     "output_type": "stream",
     "name": "stdout",
     "text": [
      "[[ 0  1  2  3]\n [ 4  5  6  7]\n [ 8  9 10 11]]\n[ 0  1  2  3  4  5  6  7  8  9 10 11]\n[[ 0  1  2  3  4  5]\n [ 6  7  8  9 10 11]]\n[[ 0  4  8]\n [ 1  5  9]\n [ 2  6 10]\n [ 3  7 11]]\n"
     ]
    }
   ],
   "source": [
    "# 以下操作不改变原数组\n",
    "a = np.arange(12).reshape((3,4))\n",
    "print(a)\n",
    "print(a.ravel())\n",
    "print(a.reshape((2,6)))\n",
    "print(a.T)"
   ]
  },
  {
   "cell_type": "code",
   "execution_count": 22,
   "metadata": {},
   "outputs": [
    {
     "output_type": "stream",
     "name": "stdout",
     "text": [
      "[[ 0  1  2  3]\n [ 4  5  6  7]\n [ 8  9 10 11]]\n[[ 0  1  2  3  4  5]\n [ 6  7  8  9 10 11]]\n"
     ]
    }
   ],
   "source": [
    "# 以下操作会改变原数组\n",
    "a = np.arange(12).reshape((3,4))\n",
    "print(a)\n",
    "a.resize((2,6))\n",
    "print(a)"
   ]
  },
  {
   "cell_type": "code",
   "execution_count": 23,
   "metadata": {},
   "outputs": [
    {
     "output_type": "stream",
     "name": "stdout",
     "text": [
      "[[ 0  1  2  3]\n [ 4  5  6  7]\n [ 8  9 10 11]]\n[ 0  1  2  3  4  5  6  7  8  9 10 11]\n[[ 0  1  2  3  4  5  6  7  8  9 10 11]]\n[[ 0  1  2  3  4  5  6  7  8  9 10 11]]\n[[ 0  1  2  3  4  5  6  7  8  9 10 11]]\n[[[ 0  1  2]\n  [ 3  4  5]]\n\n [[ 6  7  8]\n  [ 9 10 11]]]\n"
     ]
    }
   ],
   "source": [
    "# np.reshape()\n",
    "a = np.arange(12).reshape((3,4))\n",
    "print(a)\n",
    "print(a.reshape((12)))\n",
    "print(a.reshape((1,12)))    # a.reshape((12)) != a.reshape((1,12))\n",
    "print(a.reshape((1,-1)))    # np.reshape()中指定为-1的轴将自动计算其size\n",
    "print(a.reshape((-1,12)))\n",
    "print(a.reshape((-1,2,3)))"
   ]
  },
  {
   "cell_type": "code",
   "execution_count": 24,
   "metadata": {},
   "outputs": [
    {
     "output_type": "stream",
     "name": "stdout",
     "text": [
      "[[ 0  1  2  3]\n [ 4  5  6  7]\n [ 8  9 10 11]]\n[[ 0  1  2  3  4  5]\n [ 6  7  8  9 10 11]]\n[[ 0  8  5  2 10  7]\n [ 4  1  9  6  3 11]]\n"
     ]
    }
   ],
   "source": [
    "a = np.arange(12).reshape((3,4))\n",
    "print(a)\n",
    "print(a.reshape((2,6), order='C'))\n",
    "print(a.reshape((2,6), order='F'))\n",
    "# order参数指定索引顺序：\n",
    "# 默认'C'为类C风格，右边轴变化最快\n",
    "# 'F'为类Fortran风格，左边轴变化最快"
   ]
  },
  {
   "source": [
    "### 数组堆叠\n",
    "\n",
    "> 另见：hstack, vstack, column_stack, concatenate, c_, r_\n"
   ],
   "cell_type": "markdown",
   "metadata": {}
  },
  {
   "cell_type": "code",
   "execution_count": 26,
   "metadata": {},
   "outputs": [
    {
     "output_type": "stream",
     "name": "stdout",
     "text": [
      "[[0 1 2]\n [3 4 5]]\n[[4. 7. 1.]\n [6. 1. 9.]]\n[[0. 1. 2.]\n [3. 4. 5.]\n [4. 7. 1.]\n [6. 1. 9.]]\n[[0. 1. 2. 4. 7. 1.]\n [3. 4. 5. 6. 1. 9.]]\n"
     ]
    }
   ],
   "source": [
    "# np.vstack()和np.hstack()适合1-2维数组\n",
    "a = np.arange(6).reshape((2,3))\n",
    "b = np.floor(10*np.random.random((2,3)))\n",
    "print(a)\n",
    "print(b)\n",
    "print(np.vstack((a,b)))   # 垂直堆叠（沿第一轴堆叠，第二轴维度须相同）\n",
    "print(np.hstack((a,b)))   # 水平堆叠（沿第二轴堆叠，第一轴维度须相同）"
   ]
  },
  {
   "cell_type": "code",
   "execution_count": 27,
   "metadata": {},
   "outputs": [
    {
     "output_type": "stream",
     "name": "stdout",
     "text": [
      "[[0 1 2]\n [3 4 5]]\n[[5. 4. 2.]\n [7. 4. 5.]]\n[[0. 1. 2. 5. 4. 2.]\n [3. 4. 5. 7. 4. 5.]]\n"
     ]
    }
   ],
   "source": [
    "a = np.arange(6).reshape((2,3))\n",
    "b = np.floor(10*np.random.random((6))).reshape((2,3))\n",
    "print(a)\n",
    "print(b)\n",
    "print(np.column_stack((a,b)))   # 堆叠2维数组，第一轴维度须相同"
   ]
  },
  {
   "cell_type": "code",
   "execution_count": 37,
   "metadata": {},
   "outputs": [
    {
     "output_type": "stream",
     "name": "stdout",
     "text": [
      "[[0 1 2]\n [3 4 5]]\n[[6. 0. 6.]\n [6. 2. 1.]]\n[[0. 1. 2.]\n [3. 4. 5.]\n [6. 0. 6.]\n [6. 2. 1.]]\n[[0. 1. 2.]\n [3. 4. 5.]\n [6. 0. 6.]\n [6. 2. 1.]]\n"
     ]
    }
   ],
   "source": [
    "a = np.arange(6).reshape((2,3))\n",
    "b = np.floor(10*np.random.random((2,3)))\n",
    "print(a)\n",
    "print(b)\n",
    "print(np.row_stack((a,b)))   # 堆叠2维数组，第二轴维度须相同\n",
    "print(np.vstack((a,b)))   # 堆叠2维数组，第二轴维度须相同"
   ]
  },
  {
   "cell_type": "code",
   "execution_count": 38,
   "metadata": {},
   "outputs": [
    {
     "output_type": "stream",
     "name": "stdout",
     "text": [
      "False\nTrue\n"
     ]
    }
   ],
   "source": [
    "print(np.column_stack is np.hstack)   # 输入为1维数组时两者操作不同，见下。\n",
    "print(np.row_stack is np.vstack)"
   ]
  },
  {
   "cell_type": "code",
   "execution_count": 39,
   "metadata": {},
   "outputs": [
    {
     "output_type": "stream",
     "name": "stdout",
     "text": [
      "[4. 2.]\n[3. 8.]\n[[4. 3.]\n [2. 8.]]\n[4. 2. 3. 8.]\n[[4. 3.]\n [2. 8.]]\n"
     ]
    }
   ],
   "source": [
    "a = np.array([4.,2.])\n",
    "b = np.array([3.,8.])\n",
    "print(a)\n",
    "print(b)\n",
    "print(np.column_stack((a,b)))   # 堆叠1维数组，尺寸须相同\n",
    "print(np.hstack((a, b)))   # 堆叠1维数组时，np.column_stack != np.hstack\n",
    "print(np.hstack((a[:,np.newaxis], b[:,np.newaxis])))   # 但可以通过np.newaxis完成一样的操作\n"
   ]
  },
  {
   "cell_type": "code",
   "execution_count": 42,
   "metadata": {},
   "outputs": [
    {
     "output_type": "stream",
     "name": "stdout",
     "text": [
      "[1 2 3 0 3 2 1]\n[[1 4]\n [2 5]\n [3 6]]\n"
     ]
    }
   ],
   "source": [
    "print(np.r_[1:4,0,np.array([3,2,1])])\n",
    "# 默认操作类似np.vstack()，但允许使用可选参数指定连接的轴\n",
    "print(np.c_[np.array([1,2,3]), np.array([4,5,6])])\n",
    "# 默认操作类似np.hstack()，但允许使用可选参数指定连接的轴"
   ]
  },
  {
   "cell_type": "code",
   "execution_count": 43,
   "metadata": {},
   "outputs": [
    {
     "output_type": "stream",
     "name": "stdout",
     "text": [
      "[[1 2]\n [3 4]\n [5 6]]\n[[1 2 5]\n [3 4 6]]\n"
     ]
    }
   ],
   "source": [
    "a = np.array([[1, 2], [3, 4]])\n",
    "b = np.array([[5, 6]])\n",
    "print(np.concatenate((a, b), axis=0))\n",
    "print(np.concatenate((a, b.T), axis=1))\n",
    "# np.concatenate()允许通过参数axis指定拼接的轴"
   ]
  },
  {
   "source": [
    "### 数组拆分\n",
    "\n",
    "> 另见：vsplit, array_split\n"
   ],
   "cell_type": "markdown",
   "metadata": {}
  },
  {
   "cell_type": "code",
   "execution_count": 46,
   "metadata": {},
   "outputs": [
    {
     "output_type": "stream",
     "name": "stdout",
     "text": [
      "[[5. 0. 8. 0. 6. 2. 7. 9. 2. 5. 5. 5.]\n [2. 9. 4. 8. 6. 2. 8. 3. 8. 5. 8. 6.]]\n[[5. 0. 8. 0.]\n [2. 9. 4. 8.]]\n[[6. 2. 7. 9.]\n [6. 2. 8. 3.]]\n[[2. 5. 5. 5.]\n [8. 5. 8. 6.]]\n[[5.]\n [2.]]\n[[0. 8. 0. 6.]\n [9. 4. 8. 6.]]\n[[2. 7. 9. 2. 5. 5. 5.]\n [2. 8. 3. 8. 5. 8. 6.]]\n"
     ]
    }
   ],
   "source": [
    "a = np.floor(10*np.random.random((2,12)))\n",
    "print(a)\n",
    "for e in np.hsplit(a,3):   # 平均拆分\n",
    "    print(e)\n",
    "for e in np.hsplit(a,(1,5)):   # 指定拆分位置\n",
    "    print(e)"
   ]
  },
  {
   "source": [
    "## 拷贝与视图\n",
    "\n",
    "### 完全不拷贝\n"
   ],
   "cell_type": "markdown",
   "metadata": {}
  },
  {
   "cell_type": "code",
   "execution_count": 60,
   "metadata": {},
   "outputs": [
    {
     "output_type": "stream",
     "name": "stdout",
     "text": [
      "True\nFalse\n"
     ]
    }
   ],
   "source": [
    "# 不拷贝，同一数组对象 np.ndarray\n",
    "a = np.array([[ 0,  1,  2,  3],\n",
    "              [ 4,  5,  6,  7],\n",
    "              [ 8,  9, 10, 11]])\n",
    "b = a\n",
    "print(b is a)"
   ]
  },
  {
   "cell_type": "code",
   "execution_count": 49,
   "metadata": {},
   "outputs": [
    {
     "output_type": "stream",
     "name": "stdout",
     "text": [
      "2167128908144\n2167128908144\n"
     ]
    }
   ],
   "source": [
    "def func(x):\n",
    "    return x\n",
    "\n",
    "a = np.floor(10*np.random.random((2,3)))\n",
    "print(id(a))\n",
    "print(id(func(a)))   # Python将可变对象作为引用传递"
   ]
  },
  {
   "source": [
    "### 视图或浅拷贝\n"
   ],
   "cell_type": "markdown",
   "metadata": {}
  },
  {
   "cell_type": "code",
   "execution_count": 67,
   "metadata": {},
   "outputs": [
    {
     "output_type": "stream",
     "name": "stdout",
     "text": [
      "False\nTrue\nFalse\n"
     ]
    }
   ],
   "source": [
    "# 浅拷贝，共享相同数据，但为不同数组对象 np.ndarray\n",
    "a = np.array([[ 0,  1,  2,  3],\n",
    "              [ 4,  5,  6,  7],\n",
    "              [ 8,  9, 10, 11]])\n",
    "b = a.view()\n",
    "print(b is a)\n",
    "print(b.base is a)\n",
    "print(b.flags.owndata)"
   ]
  },
  {
   "cell_type": "code",
   "execution_count": 68,
   "metadata": {},
   "outputs": [
    {
     "output_type": "stream",
     "name": "stdout",
     "text": [
      "(3, 4)\n[[  0   1   2   3]\n [  4   5   6   7]\n [  8 999  10  11]]\n"
     ]
    }
   ],
   "source": [
    "c = b.reshape((2,6))\n",
    "print(a.shape)   # a的形状不变\n",
    "c[1, 3] = 999\n",
    "print(a)   # a的数据改变"
   ]
  },
  {
   "cell_type": "code",
   "execution_count": 69,
   "metadata": {},
   "outputs": [
    {
     "output_type": "stream",
     "name": "stdout",
     "text": [
      "True\n[[ 0 11 11  3]\n [ 4 11 11  7]\n [ 8 11 11 11]]\n"
     ]
    }
   ],
   "source": [
    "# 切片数据会返回一个视图（浅拷贝）\n",
    "s = a[:, 1:3]\n",
    "print(s.base is a)\n",
    "s[:] = 11\n",
    "print(a)"
   ]
  },
  {
   "source": [
    "### 深拷贝\n"
   ],
   "cell_type": "markdown",
   "metadata": {}
  },
  {
   "cell_type": "code",
   "execution_count": 72,
   "metadata": {},
   "outputs": [
    {
     "output_type": "stream",
     "name": "stdout",
     "text": [
      "False\nFalse\nTrue\n"
     ]
    }
   ],
   "source": [
    "# 深拷贝，生成一份完整的数组对象及数据的副本\n",
    "a = np.array([[ 0,  1,  2,  3],\n",
    "              [ 4,  5,  6,  7],\n",
    "              [ 8,  9, 10, 11]])\n",
    "b = a.copy()\n",
    "print(b is a)\n",
    "print(b.base is a)\n",
    "print(b.flags.owndata)"
   ]
  },
  {
   "cell_type": "code",
   "execution_count": 73,
   "metadata": {},
   "outputs": [
    {
     "output_type": "stream",
     "name": "stdout",
     "text": [
      "[[ 0  1  2  3]\n [ 4  5  6  7]\n [ 8  9 10 11]]\n[[ 1  2]\n [ 5  6]\n [ 9 10]]\n"
     ]
    }
   ],
   "source": [
    "b[2, 3] = 999\n",
    "print(a)   # a的数据不变\n",
    "\n",
    "c = a[:, 1:3].copy()\n",
    "del a   # 完全释放a占用的资源\n",
    "print(c)   # c仍然存在"
   ]
  },
  {
   "cell_type": "code",
   "execution_count": null,
   "metadata": {},
   "outputs": [],
   "source": []
  }
 ]
}